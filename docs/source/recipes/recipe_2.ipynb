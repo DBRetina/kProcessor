{
 "cells": [
  {
   "cell_type": "markdown",
   "metadata": {},
   "source": [
    "# Recipe 2: Loading a kDataFrame file from disk"
   ]
  },
  {
   "cell_type": "markdown",
   "metadata": {},
   "source": [
    "In [Recipe 2](./recipe_1.html) we saved a kDataFrame to the disk with the file name `kf1.mqf`\n",
    "\n",
    "1. Load the kf1 kDataFrame in an new kDataFrame.\n",
    "2. Verify the loading by printing the kmerSize and total size."
   ]
  },
  {
   "cell_type": "markdown",
   "metadata": {},
   "source": [
    "## Implementation"
   ]
  },
  {
   "cell_type": "markdown",
   "metadata": {},
   "source": [
    "### Importing"
   ]
  },
  {
   "cell_type": "code",
   "execution_count": 1,
   "metadata": {},
   "outputs": [],
   "source": [
    "import kProcessor as kp"
   ]
  },
  {
   "cell_type": "markdown",
   "metadata": {},
   "source": [
    "### Loading the kDataFrame"
   ]
  },
  {
   "cell_type": "code",
   "execution_count": 2,
   "metadata": {},
   "outputs": [],
   "source": [
    "kf = kp.kDataFrame.load(\"kf1\") # Note: We didn't write the extension."
   ]
  },
  {
   "cell_type": "markdown",
   "metadata": {},
   "source": [
    "### Print the kmer size"
   ]
  },
  {
   "cell_type": "code",
   "execution_count": 3,
   "metadata": {},
   "outputs": [
    {
     "name": "stdout",
     "output_type": "stream",
     "text": [
      "kSize: 21\n"
     ]
    }
   ],
   "source": [
    "kSize = kf.ksize()\n",
    "\n",
    "print(f\"kSize: {kSize}\")"
   ]
  },
  {
   "cell_type": "markdown",
   "metadata": {},
   "source": [
    "### Dump the first 10 kmers"
   ]
  },
  {
   "cell_type": "code",
   "execution_count": 4,
   "metadata": {},
   "outputs": [
    {
     "name": "stdout",
     "output_type": "stream",
     "text": [
      "CCCAACAGAATTAAAAAGTCA\n",
      "AAATTAAATAACTTTAGCGCA\n",
      "CCAAATTACAACAAAATTTGG\n",
      "TTAATCATTTGGTATAATTGC\n",
      "ACCTCGTATAACTTCGTATAA\n",
      "AACAATTCAACAGAGAAGGAC\n",
      "AGGCTAATCGAACAAAACATC\n",
      "AGGAAAAACTCCAGCCAGTAA\n",
      "TACGGGTCGCAGTGACCAGGC\n",
      "CCAGGTAGTACAGCAATCGTA\n"
     ]
    }
   ],
   "source": [
    "it = kf.begin()\n",
    "\n",
    "for i in range(10):\n",
    "    print(it.getKmer())\n",
    "    it.next() # Extremely important to move the iterator to the next kmer position."
   ]
  },
  {
   "cell_type": "markdown",
   "metadata": {},
   "source": [
    "## Complete Script"
   ]
  },
  {
   "cell_type": "markdown",
   "metadata": {},
   "source": [
    "```python\n",
    "\n",
    "import kProcessor as kp\n",
    "\n",
    "kf = kp.kDataFrame.load(\"kf1\") # Note: We didn't write the extension.\n",
    "\n",
    "kSize = kf.ksize()\n",
    "\n",
    "print(f\"kSize: {kSize}\")\n",
    "\n",
    "it = kf.begin()\n",
    "\n",
    "for i in range(10):\n",
    "    print(it.getKmer())\n",
    "    it.next() # Extremely important to move the iterator to the next kmer position.\n",
    "\n",
    "```"
   ]
  }
 ],
 "metadata": {
  "kernelspec": {
   "display_name": "Python 3",
   "language": "python",
   "name": "python3"
  },
  "language_info": {
   "codemirror_mode": {
    "name": "ipython",
    "version": 3
   },
   "file_extension": ".py",
   "mimetype": "text/x-python",
   "name": "python",
   "nbconvert_exporter": "python",
   "pygments_lexer": "ipython3",
   "version": "3.6.7"
  }
 },
 "nbformat": 4,
 "nbformat_minor": 2
}
