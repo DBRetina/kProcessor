{
 "cells": [
  {
   "cell_type": "markdown",
   "metadata": {},
   "source": [
    "# Recipe 6: Set functions\n",
    "\n",
    "<div class=\"alert alert-info\">\n",
    "\n",
    "**Note:**\n",
    "\n",
    "Works only on kDataFrameMQF\n",
    "\n",
    "</div>"
   ]
  },
  {
   "cell_type": "markdown",
   "metadata": {},
   "source": [
    "## Description"
   ]
  },
  {
   "cell_type": "markdown",
   "metadata": {},
   "source": [
    "1. Create two kDataFrames with same kmer size and fill them with random kmers\n",
    "2. Apply set functions diff, intersect, union and dump the resultant kDataFrames"
   ]
  },
  {
   "cell_type": "markdown",
   "metadata": {},
   "source": [
    "## Implementation"
   ]
  },
  {
   "cell_type": "markdown",
   "metadata": {},
   "source": [
    "### Importing"
   ]
  },
  {
   "cell_type": "code",
   "execution_count": 1,
   "metadata": {},
   "outputs": [],
   "source": [
    "import kProcessor as kp\n",
    "import random"
   ]
  },
  {
   "cell_type": "markdown",
   "metadata": {},
   "source": [
    "### Function to generate random kmers with random counts"
   ]
  },
  {
   "cell_type": "code",
   "execution_count": 2,
   "metadata": {},
   "outputs": [],
   "source": [
    "def generate_kmers(kSize, kmers_no):\n",
    "    kmers_list = []\n",
    "    for i in range(kmers_no):\n",
    "        _kmer = \"\".join([random.choice('ACGT') for _ in range(kSize)])\n",
    "        _count = random.randint(1, 1000)\n",
    "        kmers_list.append((_kmer, _count))\n",
    "\n",
    "    return kmers_list"
   ]
  },
  {
   "cell_type": "markdown",
   "metadata": {},
   "source": [
    "### Function to dump the kmers of a kDataFrame"
   ]
  },
  {
   "cell_type": "code",
   "execution_count": 3,
   "metadata": {},
   "outputs": [],
   "source": [
    "def dumpKmers(kFrame):\n",
    "    it = kFrame.begin()\n",
    "    counter = 1\n",
    "    while (it != kFrame.end()):\n",
    "        # Get the kmer string\n",
    "        kmer = it.getKmer()\n",
    "\n",
    "        # Get the kmer count\n",
    "        count = it.getKmerCount()\n",
    "\n",
    "        # Print the data\n",
    "        print(\"%d- kmer: %s with count: %d\" % (counter, kmer, count))\n",
    "        counter +=1\n",
    "        \n",
    "        it.next()"
   ]
  },
  {
   "cell_type": "markdown",
   "metadata": {},
   "source": [
    "### Determining kmer size"
   ]
  },
  {
   "cell_type": "code",
   "execution_count": 4,
   "metadata": {},
   "outputs": [],
   "source": [
    "kSize = 31"
   ]
  },
  {
   "cell_type": "markdown",
   "metadata": {},
   "source": [
    "### Create list of kDataFrames"
   ]
  },
  {
   "cell_type": "code",
   "execution_count": 5,
   "metadata": {},
   "outputs": [],
   "source": [
    "kFrames_vec = [kp.kDataFrameMQF(kSize), kp.kDataFrameMQF(kSize)]"
   ]
  },
  {
   "cell_type": "markdown",
   "metadata": {},
   "source": [
    "### Create random kmers list"
   ]
  },
  {
   "cell_type": "code",
   "execution_count": 6,
   "metadata": {},
   "outputs": [],
   "source": [
    "kmers_list1 = generate_kmers(kSize, kmers_no=20)\n",
    "kmers_list2 = generate_kmers(kSize, kmers_no=10)"
   ]
  },
  {
   "cell_type": "markdown",
   "metadata": {},
   "source": [
    "### Replicate some kmers from kmers_list1 in kmers_list2 to make sure len(intersection) > 0"
   ]
  },
  {
   "cell_type": "code",
   "execution_count": 7,
   "metadata": {},
   "outputs": [],
   "source": [
    "kmers_list2 += kmers_list1[0:10]"
   ]
  },
  {
   "cell_type": "markdown",
   "metadata": {},
   "source": [
    "### Inserting the kmers"
   ]
  },
  {
   "cell_type": "code",
   "execution_count": 8,
   "metadata": {},
   "outputs": [],
   "source": [
    "for kmer in kmers_list1:\n",
    "    kFrames_vec[0].insert(kmer[0], kmer[1])\n",
    "\n",
    "for kmer in kmers_list2:\n",
    "    kFrames_vec[1].insert(kmer[0], kmer[1])"
   ]
  },
  {
   "cell_type": "markdown",
   "metadata": {},
   "source": [
    "### Apply set functions"
   ]
  },
  {
   "cell_type": "code",
   "execution_count": 9,
   "metadata": {},
   "outputs": [],
   "source": [
    "# Apply kFrameIntersect\n",
    "intersect_kFrame = kp.kFrameIntersect(kFrames_vec)\n",
    "\n",
    "# Apply kFrameDiff\n",
    "diff_kFrame = kp.kFrameDiff(kFrames_vec)\n",
    "\n",
    "# Apply kFrameUnion\n",
    "union_kFrame = kp.kFrameUnion(kFrames_vec)"
   ]
  },
  {
   "cell_type": "markdown",
   "metadata": {},
   "source": [
    "### Dumping kmers of kFrames_vec[0]"
   ]
  },
  {
   "cell_type": "code",
   "execution_count": 10,
   "metadata": {},
   "outputs": [
    {
     "name": "stdout",
     "output_type": "stream",
     "text": [
      "1- kmer: ATACGAGCATGTCTCATTTCACTTAAAGGGA with count: 477\n",
      "2- kmer: AACATGACTTGCTTAATCATAGCCAAGTAAC with count: 969\n",
      "3- kmer: GGCATGCTTCCTACGAAACGGAGAGGTTACC with count: 984\n",
      "4- kmer: ACGATAAACAGCTCTGTACGTTAACTGTCAC with count: 508\n",
      "5- kmer: TCTGGCGTTGTATATACTTGGTTCCGCCTAA with count: 563\n",
      "6- kmer: GCCGGTATACGGTACGCAGATGGCTACTACC with count: 60\n",
      "7- kmer: CTCAGACGCGCTAAAATTTTGCTGTCATACC with count: 509\n",
      "8- kmer: CCAGGGATAGAAATGCAGCATCTGTCTTCAA with count: 87\n",
      "9- kmer: ACTGAAATGTAAACCGGGGACTGGTGAGACC with count: 250\n",
      "10- kmer: AGCTCGCCTTTACGCGAATTCCACAGCGGAC with count: 477\n",
      "11- kmer: ACCGTCTCAAATGTTGGAGCTCTCCTCGGTG with count: 38\n",
      "12- kmer: CAAACCGAAGAAGCATTACATCTCGCTATAA with count: 168\n",
      "13- kmer: ACCGTCTCTTCAGCGCGCAAAAAGAAACGCT with count: 618\n",
      "14- kmer: AGTGATGGTGCTCCACGATTACGAGCACGGG with count: 293\n",
      "15- kmer: TAATTTCAAGAATGGCTAAGAGCGTACAGGC with count: 235\n",
      "16- kmer: TCATGAAGTACCAGGTTGTCCCGGGTGTACA with count: 840\n",
      "17- kmer: CCTCAGACGACATCAGTATGGCGGATGTACC with count: 21\n",
      "18- kmer: AAAAGACACCGGCGAGTGCTTACTAGTGGCC with count: 725\n",
      "19- kmer: TACGGGGGATCTCAATGTAAGTAGACGCGCA with count: 257\n",
      "20- kmer: CCCAGGCATGGGCAGGTCTCGTGCAACTGAG with count: 398\n"
     ]
    }
   ],
   "source": [
    "dumpKmers(kFrames_vec[0])"
   ]
  },
  {
   "cell_type": "markdown",
   "metadata": {},
   "source": [
    "### Dumping kmers of kFrames_vec[1]"
   ]
  },
  {
   "cell_type": "code",
   "execution_count": 11,
   "metadata": {},
   "outputs": [
    {
     "name": "stdout",
     "output_type": "stream",
     "text": [
      "1- kmer: AAATACAGAAGAGTAGAAGTCCCTGGCGCAA with count: 649\n",
      "2- kmer: ACTAGAGATTTATCCAAAGAGGATCCCCTGA with count: 685\n",
      "3- kmer: ACGAGCTGCGCCTACGCACTGATATGCATGA with count: 965\n",
      "4- kmer: CCACTCAGGGTCTGACCTAAGTGTTGTCTCG with count: 833\n",
      "5- kmer: GGCATGCTTCCTACGAAACGGAGAGGTTACC with count: 984\n",
      "6- kmer: ACGATAAACAGCTCTGTACGTTAACTGTCAC with count: 508\n",
      "7- kmer: GCTGGCGGTTTATTTGTTTTCTGAACTCCGC with count: 40\n",
      "8- kmer: AGGAAAACTTAACATCAGTTCACCTTGATGG with count: 415\n",
      "9- kmer: CTCAGACGCGCTAAAATTTTGCTGTCATACC with count: 509\n",
      "10- kmer: CCAGGGATAGAAATGCAGCATCTGTCTTCAA with count: 87\n",
      "11- kmer: ACTGAAATGTAAACCGGGGACTGGTGAGACC with count: 250\n",
      "12- kmer: AGCTCGCCTTTACGCGAATTCCACAGCGGAC with count: 477\n",
      "13- kmer: CTACGCGAAATCGCTACTTATGCGCTGAGAA with count: 470\n",
      "14- kmer: AAGACTCCTATCCGTACATGAGTTGAAGGTC with count: 850\n",
      "15- kmer: ACCGTCTCTTCAGCGCGCAAAAAGAAACGCT with count: 618\n",
      "16- kmer: AGTGATGGTGCTCCACGATTACGAGCACGGG with count: 293\n",
      "17- kmer: CCTCAGACGACATCAGTATGGCGGATGTACC with count: 21\n",
      "18- kmer: ACCCCCGTTGACCGTGCAGAGGGGCAAATGG with count: 269\n",
      "19- kmer: TACGGGGGATCTCAATGTAAGTAGACGCGCA with count: 257\n",
      "20- kmer: AAGGGTTGTACGCTGTGTCATACTATGTCAG with count: 83\n"
     ]
    }
   ],
   "source": [
    "dumpKmers(kFrames_vec[1])"
   ]
  },
  {
   "cell_type": "markdown",
   "metadata": {},
   "source": [
    "### Dump diff_kFrame"
   ]
  },
  {
   "cell_type": "code",
   "execution_count": 12,
   "metadata": {},
   "outputs": [
    {
     "name": "stdout",
     "output_type": "stream",
     "text": [
      "1- kmer: ATACGAGCATGTCTCATTTCACTTAAAGGGA with count: 477\n",
      "2- kmer: AACATGACTTGCTTAATCATAGCCAAGTAAC with count: 969\n",
      "3- kmer: TCTGGCGTTGTATATACTTGGTTCCGCCTAA with count: 563\n",
      "4- kmer: GCCGGTATACGGTACGCAGATGGCTACTACC with count: 60\n",
      "5- kmer: ACCGTCTCAAATGTTGGAGCTCTCCTCGGTG with count: 38\n",
      "6- kmer: CAAACCGAAGAAGCATTACATCTCGCTATAA with count: 168\n",
      "7- kmer: TAATTTCAAGAATGGCTAAGAGCGTACAGGC with count: 235\n",
      "8- kmer: TCATGAAGTACCAGGTTGTCCCGGGTGTACA with count: 840\n",
      "9- kmer: AAAAGACACCGGCGAGTGCTTACTAGTGGCC with count: 725\n",
      "10- kmer: CCCAGGCATGGGCAGGTCTCGTGCAACTGAG with count: 398\n"
     ]
    }
   ],
   "source": [
    "dumpKmers(diff_kFrame)"
   ]
  },
  {
   "cell_type": "markdown",
   "metadata": {},
   "source": [
    "### Dump instersect_kFrame"
   ]
  },
  {
   "cell_type": "code",
   "execution_count": 13,
   "metadata": {},
   "outputs": [
    {
     "name": "stdout",
     "output_type": "stream",
     "text": [
      "1- kmer: GGCATGCTTCCTACGAAACGGAGAGGTTACC with count: 984\n",
      "2- kmer: ACGATAAACAGCTCTGTACGTTAACTGTCAC with count: 508\n",
      "3- kmer: CTCAGACGCGCTAAAATTTTGCTGTCATACC with count: 509\n",
      "4- kmer: CCAGGGATAGAAATGCAGCATCTGTCTTCAA with count: 87\n",
      "5- kmer: ACTGAAATGTAAACCGGGGACTGGTGAGACC with count: 250\n",
      "6- kmer: AGCTCGCCTTTACGCGAATTCCACAGCGGAC with count: 477\n",
      "7- kmer: ACCGTCTCTTCAGCGCGCAAAAAGAAACGCT with count: 618\n",
      "8- kmer: AGTGATGGTGCTCCACGATTACGAGCACGGG with count: 293\n",
      "9- kmer: CCTCAGACGACATCAGTATGGCGGATGTACC with count: 21\n",
      "10- kmer: TACGGGGGATCTCAATGTAAGTAGACGCGCA with count: 257\n"
     ]
    }
   ],
   "source": [
    "dumpKmers(intersect_kFrame)"
   ]
  },
  {
   "cell_type": "markdown",
   "metadata": {},
   "source": [
    "### Dump union_kFrame"
   ]
  },
  {
   "cell_type": "code",
   "execution_count": 14,
   "metadata": {},
   "outputs": [
    {
     "name": "stdout",
     "output_type": "stream",
     "text": [
      "1- kmer: AAATACAGAAGAGTAGAAGTCCCTGGCGCAA with count: 649\n",
      "2- kmer: ACTAGAGATTTATCCAAAGAGGATCCCCTGA with count: 685\n",
      "3- kmer: ACGAGCTGCGCCTACGCACTGATATGCATGA with count: 965\n",
      "4- kmer: CCACTCAGGGTCTGACCTAAGTGTTGTCTCG with count: 833\n",
      "5- kmer: ATACGAGCATGTCTCATTTCACTTAAAGGGA with count: 477\n",
      "6- kmer: AACATGACTTGCTTAATCATAGCCAAGTAAC with count: 969\n",
      "7- kmer: GGCATGCTTCCTACGAAACGGAGAGGTTACC with count: 1968\n",
      "8- kmer: ACGATAAACAGCTCTGTACGTTAACTGTCAC with count: 1016\n",
      "9- kmer: TCTGGCGTTGTATATACTTGGTTCCGCCTAA with count: 563\n",
      "10- kmer: GCTGGCGGTTTATTTGTTTTCTGAACTCCGC with count: 40\n",
      "11- kmer: AGGAAAACTTAACATCAGTTCACCTTGATGG with count: 415\n",
      "12- kmer: GCCGGTATACGGTACGCAGATGGCTACTACC with count: 60\n",
      "13- kmer: CTCAGACGCGCTAAAATTTTGCTGTCATACC with count: 1018\n",
      "14- kmer: CCAGGGATAGAAATGCAGCATCTGTCTTCAA with count: 174\n",
      "15- kmer: ACTGAAATGTAAACCGGGGACTGGTGAGACC with count: 500\n",
      "16- kmer: AGCTCGCCTTTACGCGAATTCCACAGCGGAC with count: 954\n",
      "17- kmer: CTACGCGAAATCGCTACTTATGCGCTGAGAA with count: 470\n",
      "18- kmer: ACCGTCTCAAATGTTGGAGCTCTCCTCGGTG with count: 38\n",
      "19- kmer: AAGACTCCTATCCGTACATGAGTTGAAGGTC with count: 850\n",
      "20- kmer: CAAACCGAAGAAGCATTACATCTCGCTATAA with count: 168\n",
      "21- kmer: ACCGTCTCTTCAGCGCGCAAAAAGAAACGCT with count: 1236\n",
      "22- kmer: AGTGATGGTGCTCCACGATTACGAGCACGGG with count: 586\n",
      "23- kmer: TAATTTCAAGAATGGCTAAGAGCGTACAGGC with count: 235\n",
      "24- kmer: TCATGAAGTACCAGGTTGTCCCGGGTGTACA with count: 840\n",
      "25- kmer: CCTCAGACGACATCAGTATGGCGGATGTACC with count: 42\n",
      "26- kmer: ACCCCCGTTGACCGTGCAGAGGGGCAAATGG with count: 269\n",
      "27- kmer: AAAAGACACCGGCGAGTGCTTACTAGTGGCC with count: 725\n",
      "28- kmer: TACGGGGGATCTCAATGTAAGTAGACGCGCA with count: 514\n",
      "29- kmer: AAGGGTTGTACGCTGTGTCATACTATGTCAG with count: 83\n",
      "30- kmer: CCCAGGCATGGGCAGGTCTCGTGCAACTGAG with count: 398\n"
     ]
    }
   ],
   "source": [
    "dumpKmers(union_kFrame)"
   ]
  },
  {
   "cell_type": "markdown",
   "metadata": {},
   "source": [
    "---"
   ]
  },
  {
   "cell_type": "markdown",
   "metadata": {},
   "source": [
    "### Complete Script"
   ]
  },
  {
   "cell_type": "markdown",
   "metadata": {},
   "source": [
    "```python\n",
    "\n",
    "import kProcessor as kp\n",
    "import random\n",
    "\n",
    "def generate_kmers(kSize, kmers_no):\n",
    "    kmers_list = []\n",
    "    for i in range(kmers_no):\n",
    "        _kmer = \"\".join([random.choice('ACGT') for _ in range(kSize)])\n",
    "        _count = random.randint(1, 1000)\n",
    "        kmers_list.append((_kmer, _count))\n",
    "\n",
    "    return kmers_list\n",
    "\n",
    "def dumpKmers(kFrame):\n",
    "    it = kFrame.begin()\n",
    "    counter = 1\n",
    "    while (it != kFrame.end()):\n",
    "        # Get the kmer string\n",
    "        kmer = it.getKmer()\n",
    "\n",
    "        # Get the kmer count\n",
    "        count = it.getKmerCount()\n",
    "\n",
    "        # Print the data\n",
    "        print(\"%d- kmer: %s with count: %d\" % (counter, kmer, count))\n",
    "        counter +=1\n",
    "        \n",
    "        it.next()\n",
    "        \n",
    "kSize = 31\n",
    "\n",
    "kFrames_vec = [kp.kDataFrameMQF(kSize), kp.kDataFrameMQF(kSize)]\n",
    "\n",
    "kmers_list1 = generate_kmers(kSize, kmers_no=20)\n",
    "kmers_list2 = generate_kmers(kSize, kmers_no=10)\n",
    "\n",
    "kmers_list2 += kmers_list1[0:10]\n",
    "\n",
    "for kmer in kmers_list1:\n",
    "    kFrames_vec[0].insert(kmer[0], kmer[1])\n",
    "\n",
    "for kmer in kmers_list2:\n",
    "    kFrames_vec[1].insert(kmer[0], kmer[1])\n",
    "\n",
    "# Apply kFrameIntersect\n",
    "intersect_kFrame = kp.kFrameIntersect(kFrames_vec)\n",
    "\n",
    "# Apply kFrameDiff\n",
    "diff_kFrame = kp.kFrameDiff(kFrames_vec)\n",
    "\n",
    "# Apply kFrameUnion\n",
    "union_kFrame = kp.kFrameUnion(kFrames_vec)\n",
    "\n",
    "dumpKmers(kFrames_vec[0])\n",
    "\n",
    "dumpKmers(kFrames_vec[1])\n",
    "\n",
    "dumpKmers(diff_kFrame)\n",
    "\n",
    "dumpKmers(intersect_kFrame)\n",
    "\n",
    "dumpKmers(union_kFrame)\n",
    "\n",
    "```"
   ]
  }
 ],
 "metadata": {
  "kernelspec": {
   "display_name": "Python 3",
   "language": "python",
   "name": "python3"
  },
  "language_info": {
   "codemirror_mode": {
    "name": "ipython",
    "version": 3
   },
   "file_extension": ".py",
   "mimetype": "text/x-python",
   "name": "python",
   "nbconvert_exporter": "python",
   "pygments_lexer": "ipython3",
   "version": "3.6.7"
  }
 },
 "nbformat": 4,
 "nbformat_minor": 2
}
