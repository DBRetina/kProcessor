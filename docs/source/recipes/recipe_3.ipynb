{
 "cells": [
  {
   "cell_type": "markdown",
   "metadata": {},
   "source": [
    "# Recipe 3: Play with kDataFrame"
   ]
  },
  {
   "cell_type": "markdown",
   "metadata": {},
   "source": [
    "## Description"
   ]
  },
  {
   "cell_type": "markdown",
   "metadata": {},
   "source": [
    "In [Recipe 1](./recipe_1.html) we saved a kDataFrame to the disk with the file name **kf1.mqf**\n",
    "\n",
    "1. Create kDataFrame with kmerSize = 21\n",
    "2. Insert some random kmers with random counts\n",
    "3. Query by each kmer and check the count\n",
    "4. Insert a pre-exist kmer and check it's count"
   ]
  },
  {
   "cell_type": "markdown",
   "metadata": {},
   "source": [
    "## Implementation"
   ]
  },
  {
   "cell_type": "markdown",
   "metadata": {},
   "source": [
    "### Importing"
   ]
  },
  {
   "cell_type": "code",
   "execution_count": 1,
   "metadata": {},
   "outputs": [],
   "source": [
    "import kProcessor as kp"
   ]
  },
  {
   "cell_type": "markdown",
   "metadata": {},
   "source": [
    "### Kmers List"
   ]
  },
  {
   "cell_type": "code",
   "execution_count": 2,
   "metadata": {},
   "outputs": [],
   "source": [
    "kmers = [\"CTGACTACTCAGAGCTAGCCT\", \"CGTAACCTATGCTAGCTAGAT\"]"
   ]
  },
  {
   "cell_type": "markdown",
   "metadata": {},
   "source": [
    "### Instantiate an object from the class kDataFrameMQF"
   ]
  },
  {
   "cell_type": "code",
   "execution_count": 3,
   "metadata": {},
   "outputs": [],
   "source": [
    "kf = kp.kDataFrameMQF(21) # Empty kDataFrame"
   ]
  },
  {
   "cell_type": "markdown",
   "metadata": {},
   "source": [
    "### Print the size of the kDataFrame"
   ]
  },
  {
   "cell_type": "code",
   "execution_count": 4,
   "metadata": {},
   "outputs": [
    {
     "name": "stdout",
     "output_type": "stream",
     "text": [
      "kf size: 0\n"
     ]
    }
   ],
   "source": [
    "print(f\"kf size: {kf.size()}\")"
   ]
  },
  {
   "cell_type": "markdown",
   "metadata": {},
   "source": [
    "## Insert the first kmer and set count to 1 & the second kmer with count 10"
   ]
  },
  {
   "cell_type": "code",
   "execution_count": 5,
   "metadata": {},
   "outputs": [
    {
     "name": "stdout",
     "output_type": "stream",
     "text": [
      "Inserting 2 kmers\n"
     ]
    },
    {
     "data": {
      "text/plain": [
       "True"
      ]
     },
     "execution_count": 5,
     "metadata": {},
     "output_type": "execute_result"
    }
   ],
   "source": [
    "print(\"Inserting 2 kmers\")\n",
    "kf.insert(kmers[0], 1)\n",
    "kf.insert(kmers[1], 10)"
   ]
  },
  {
   "cell_type": "markdown",
   "metadata": {},
   "source": [
    "### Print the size of the kDataFrame & counts of kmer1 and kmer2 "
   ]
  },
  {
   "cell_type": "code",
   "execution_count": 6,
   "metadata": {},
   "outputs": [
    {
     "name": "stdout",
     "output_type": "stream",
     "text": [
      "kf size: 2\n",
      "Kmer1 Count: 1\n",
      "Kmer2 Count: 10\n"
     ]
    }
   ],
   "source": [
    "print(\"kf size: %d\" % kf.size())\n",
    "\n",
    "# Print the first kmer count \n",
    "print(\"Kmer1 Count: %d\" % kf.count(kmers[0]))\n",
    "print(\"Kmer2 Count: %d\" % kf.count(kmers[1]))"
   ]
  },
  {
   "cell_type": "markdown",
   "metadata": {},
   "source": [
    "### Insert a duplicate kmer without count"
   ]
  },
  {
   "cell_type": "code",
   "execution_count": 7,
   "metadata": {},
   "outputs": [
    {
     "name": "stdout",
     "output_type": "stream",
     "text": [
      "[*] Inserting kmer 1 again\n"
     ]
    },
    {
     "data": {
      "text/plain": [
       "True"
      ]
     },
     "execution_count": 7,
     "metadata": {},
     "output_type": "execute_result"
    }
   ],
   "source": [
    "print(\"[*] Inserting kmer 1 again\")\n",
    "kf.insert(kmers[0])"
   ]
  },
  {
   "cell_type": "markdown",
   "metadata": {},
   "source": [
    "### Print the first kmer count again"
   ]
  },
  {
   "cell_type": "code",
   "execution_count": 8,
   "metadata": {},
   "outputs": [
    {
     "name": "stdout",
     "output_type": "stream",
     "text": [
      "Kmer1 Count: 2\n"
     ]
    }
   ],
   "source": [
    "print(\"Kmer1 Count: %d\" % kf.count(kmers[0]))"
   ]
  },
  {
   "cell_type": "markdown",
   "metadata": {},
   "source": [
    "### Erase kmer1 from the kDataFrame"
   ]
  },
  {
   "cell_type": "code",
   "execution_count": 9,
   "metadata": {},
   "outputs": [
    {
     "name": "stdout",
     "output_type": "stream",
     "text": [
      "[*] Erasing kmer1\n"
     ]
    },
    {
     "data": {
      "text/plain": [
       "True"
      ]
     },
     "execution_count": 9,
     "metadata": {},
     "output_type": "execute_result"
    }
   ],
   "source": [
    "print(\"[*] Erasing kmer1\")\n",
    "kf.erase(kmers[0])"
   ]
  },
  {
   "cell_type": "markdown",
   "metadata": {},
   "source": [
    "### Print the first kmer count again and the kDataframe Size"
   ]
  },
  {
   "cell_type": "code",
   "execution_count": 10,
   "metadata": {},
   "outputs": [
    {
     "name": "stdout",
     "output_type": "stream",
     "text": [
      "Kmer1 Count: 0\n",
      "kf size: 1\n"
     ]
    }
   ],
   "source": [
    "print(\"Kmer1 Count: %d\" % kf.count(kmers[0]))\n",
    "print(\"kf size: %d\" % kf.size())"
   ]
  },
  {
   "cell_type": "markdown",
   "metadata": {},
   "source": [
    "## Complete Script"
   ]
  },
  {
   "cell_type": "markdown",
   "metadata": {},
   "source": [
    "```python\n",
    "import kProcessor as kp\n",
    "\n",
    "kmers = [\"CTGACTACTCAGAGCTAGCCT\", \"CGTAACCTATGCTAGCTAGAT\"]\n",
    "kf = kp.kDataFrameMQF(21) # Empty kDataFrame\n",
    "print(f\"kf size: {kf.size()}\")\n",
    "\n",
    "print(\"Inserting 2 kmers\")\n",
    "kf.insert(kmers[0], 1)\n",
    "kf.insert(kmers[1], 10)\n",
    "\n",
    "print(\"kf size: %d\" % kf.size())\n",
    "\n",
    "# Print the first kmer count \n",
    "print(\"Kmer1 Count: %d\" % kf.count(kmers[0]))\n",
    "print(\"Kmer2 Count: %d\" % kf.count(kmers[1]))\n",
    "\n",
    "print(\"[*] Inserting kmer 1 again\")\n",
    "kf.insert(kmers[0])\n",
    "\n",
    "print(\"Kmer1 Count: %d\" % kf.count(kmers[0]))\n",
    "\n",
    "\n",
    "print(\"[*] Erasing kmer1\")\n",
    "kf.erase(kmers[0])\n",
    "\n",
    "print(\"Kmer1 Count: %d\" % kf.count(kmers[0]))\n",
    "print(\"kf size: %d\" % kf.size())\n",
    "\n",
    "print(\"Kmer1 Count: %d\" % kf.count(kmers[0]))\n",
    "print(\"kf size: %d\" % kf.size())\n",
    "\n",
    "```"
   ]
  }
 ],
 "metadata": {
  "kernelspec": {
   "display_name": "Python 3",
   "language": "python",
   "name": "python3"
  },
  "language_info": {
   "codemirror_mode": {
    "name": "ipython",
    "version": 3
   },
   "file_extension": ".py",
   "mimetype": "text/x-python",
   "name": "python",
   "nbconvert_exporter": "python",
   "pygments_lexer": "ipython3",
   "version": "3.6.7"
  }
 },
 "nbformat": 4,
 "nbformat_minor": 2
}
