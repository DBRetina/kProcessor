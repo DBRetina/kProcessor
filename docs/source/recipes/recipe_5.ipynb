{
 "cells": [
  {
   "cell_type": "markdown",
   "metadata": {},
   "source": [
    "# Recipe 5: Kmers Indexing"
   ]
  },
  {
   "cell_type": "markdown",
   "metadata": {},
   "source": [
    "## Description"
   ]
  },
  {
   "cell_type": "markdown",
   "metadata": {},
   "source": [
    "1. Index fasta file using index() function and save the coloredKDataFrame in ckf1\n",
    "2. Load the namesMap as a python dictionary and print it\n",
    "3. Load the inverted namesMap as a python dictionary and print it\n",
    "4. Query by kmer to get its color\n",
    "5. Save the kDataFrame on disk"
   ]
  },
  {
   "cell_type": "markdown",
   "metadata": {},
   "source": [
    "## Implementation"
   ]
  },
  {
   "cell_type": "markdown",
   "metadata": {},
   "source": [
    "### Importing"
   ]
  },
  {
   "cell_type": "code",
   "execution_count": 1,
   "metadata": {},
   "outputs": [],
   "source": [
    "import kProcessor as kp"
   ]
  },
  {
   "cell_type": "markdown",
   "metadata": {},
   "source": [
    "### Create kDataFrame Object"
   ]
  },
  {
   "cell_type": "code",
   "execution_count": 2,
   "metadata": {},
   "outputs": [],
   "source": [
    "KF = kp.kDataFrameMQF(31)"
   ]
  },
  {
   "cell_type": "markdown",
   "metadata": {},
   "source": [
    "### Indexing"
   ]
  },
  {
   "cell_type": "code",
   "execution_count": 3,
   "metadata": {},
   "outputs": [],
   "source": [
    "# kp.index(kDataFrame, mode, params, file_path, chunk size, namesfile)\n",
    "ckf1 = kp.index(KF, \"kmers\", {\"k_size\" : 31}, \"data/min_test_sample.fa\", 1000, \"data/min_test_sample.fa.names\")"
   ]
  },
  {
   "cell_type": "markdown",
   "metadata": {},
   "source": [
    "### Getting the names map and its inverse"
   ]
  },
  {
   "cell_type": "code",
   "execution_count": 4,
   "metadata": {},
   "outputs": [],
   "source": [
    "namesMap = ckf1.names_map()\n",
    "inverse_namesMap = ckf1.inverse_names_map()"
   ]
  },
  {
   "cell_type": "code",
   "execution_count": 5,
   "metadata": {},
   "outputs": [
    {
     "data": {
      "text/plain": [
       "{14: 'ENST00000616125.4',\n",
       " 23: 'ENST00000379409.6',\n",
       " 5: 'ENST00000420190.6',\n",
       " 19: 'ENST00000338591.7',\n",
       " 28: 'ENST00000428771.6',\n",
       " 10: 'ENST00000622503.4',\n",
       " 1: 'ENST00000641515.2',\n",
       " 24: 'ENST00000379407.7',\n",
       " 15: 'ENST00000620200.4',\n",
       " 6: 'ENST00000437963.5',\n",
       " 20: 'ENST00000622660.1',\n",
       " 29: 'ENST00000304952.10',\n",
       " 11: 'ENST00000618323.4',\n",
       " 2: 'ENST00000335137.4',\n",
       " 25: 'ENST00000491024.1',\n",
       " 22: 'ENST00000379410.7',\n",
       " 9: 'ENST00000618181.4',\n",
       " 26: 'ENST00000341290.6',\n",
       " 4: 'ENST00000332831.4',\n",
       " 21: 'ENST00000466300.1',\n",
       " 18: 'ENST00000327044.6',\n",
       " 13: 'ENST00000618779.4',\n",
       " 30: 'ENST00000484667.2',\n",
       " 27: 'ENST00000433179.3',\n",
       " 31: 'ENST00000624697.3',\n",
       " 8: 'ENST00000617307.4',\n",
       " 17: 'ENST00000455979.1',\n",
       " 12: 'ENST00000616016.4',\n",
       " 3: 'ENST00000426406.3',\n",
       " 7: 'ENST00000342066.7',\n",
       " 16: 'ENST00000341065.8'}"
      ]
     },
     "execution_count": 5,
     "metadata": {},
     "output_type": "execute_result"
    }
   ],
   "source": [
    "namesMap"
   ]
  },
  {
   "cell_type": "code",
   "execution_count": 6,
   "metadata": {},
   "outputs": [
    {
     "data": {
      "text/plain": [
       "{'ENST00000624697.3': 31,\n",
       " 'ENST00000379407.7': 24,\n",
       " 'ENST00000622503.4': 10,\n",
       " 'ENST00000622660.1': 20,\n",
       " 'ENST00000616125.4': 14,\n",
       " 'ENST00000428771.6': 28,\n",
       " 'ENST00000491024.1': 25,\n",
       " 'ENST00000338591.7': 19,\n",
       " 'ENST00000618779.4': 13,\n",
       " 'ENST00000433179.3': 27,\n",
       " 'ENST00000455979.1': 17,\n",
       " 'ENST00000341290.6': 26,\n",
       " 'ENST00000616016.4': 12,\n",
       " 'ENST00000342066.7': 7,\n",
       " 'ENST00000379410.7': 22,\n",
       " 'ENST00000426406.3': 3,\n",
       " 'ENST00000379409.6': 23,\n",
       " 'ENST00000484667.2': 30,\n",
       " 'ENST00000620200.4': 15,\n",
       " 'ENST00000341065.8': 16,\n",
       " 'ENST00000617307.4': 8,\n",
       " 'ENST00000641515.2': 1,\n",
       " 'ENST00000332831.4': 4,\n",
       " 'ENST00000466300.1': 21,\n",
       " 'ENST00000437963.5': 6,\n",
       " 'ENST00000304952.10': 29,\n",
       " 'ENST00000618181.4': 9,\n",
       " 'ENST00000327044.6': 18,\n",
       " 'ENST00000618323.4': 11,\n",
       " 'ENST00000335137.4': 2,\n",
       " 'ENST00000420190.6': 5}"
      ]
     },
     "execution_count": 6,
     "metadata": {},
     "output_type": "execute_result"
    }
   ],
   "source": [
    "# Inverse of the namesMap dictionary\n",
    "inverse_namesMap"
   ]
  },
  {
   "cell_type": "markdown",
   "metadata": {},
   "source": [
    "## Get a kmer color from the coloredKDataFrame"
   ]
  },
  {
   "cell_type": "code",
   "execution_count": 7,
   "metadata": {},
   "outputs": [
    {
     "name": "stdout",
     "output_type": "stream",
     "text": [
      "61\n"
     ]
    }
   ],
   "source": [
    "# kmer from the dataset to perform the query\n",
    "kmer = \"TCGAAGCTGGAGAAGGCGGACATCCTGGAGA\"\n",
    "\n",
    "# Get the color\n",
    "kmer_color = ckf1.getKmerColor(kmer)\n",
    "\n",
    "print(kmer_color)"
   ]
  },
  {
   "cell_type": "markdown",
   "metadata": {},
   "source": [
    "## Get all the transcripts IDs associated to the previous color"
   ]
  },
  {
   "cell_type": "code",
   "execution_count": 8,
   "metadata": {},
   "outputs": [],
   "source": [
    "transcript_ids = ckf1.getKmerSourceFromColor(61)"
   ]
  },
  {
   "cell_type": "markdown",
   "metadata": {},
   "source": [
    "### Get all transcript names of that color"
   ]
  },
  {
   "cell_type": "code",
   "execution_count": 9,
   "metadata": {},
   "outputs": [
    {
     "name": "stdout",
     "output_type": "stream",
     "text": [
      "ENST00000428771.6\n",
      "ENST00000304952.10\n",
      "ENST00000484667.2\n"
     ]
    }
   ],
   "source": [
    "for tr_id in transcript_ids:\n",
    "    print(namesMap[tr_id])"
   ]
  },
  {
   "cell_type": "markdown",
   "metadata": {},
   "source": [
    "### Save the colored kDataFrame to disk with name \"ckf1\""
   ]
  },
  {
   "cell_type": "code",
   "execution_count": 10,
   "metadata": {},
   "outputs": [],
   "source": [
    "ckf1.save(\"ckf1\")"
   ]
  },
  {
   "cell_type": "markdown",
   "metadata": {},
   "source": [
    "---"
   ]
  },
  {
   "cell_type": "markdown",
   "metadata": {},
   "source": [
    "### Load the colored kDataFrame again from disk."
   ]
  },
  {
   "cell_type": "markdown",
   "metadata": {},
   "source": [
    "Unlike the other kDataFrames, the colored_kDataFrame is a structure that contains a kDataFrame alongside the colors information of the kmers.\n",
    "<br>\n",
    "Loading a colored_kDataFrame is done by using the static function `load(file_path)` from the `colored_kDataFrame` class."
   ]
  },
  {
   "cell_type": "code",
   "execution_count": 11,
   "metadata": {},
   "outputs": [],
   "source": [
    "loaded_ckf = kp.colored_kDataFrame.load(\"ckf1\")"
   ]
  },
  {
   "cell_type": "markdown",
   "metadata": {},
   "source": [
    "we can use the colored_kDataFrame to query kmers and finding their associated colors and source sequences.\n",
    "<br>\n",
    "On the other hand, the kDataFrame that's encapsulated under the colored_kDataFrame is used to directly iterate over the kmers and their colors."
   ]
  },
  {
   "cell_type": "markdown",
   "metadata": {},
   "source": [
    "### Get the embedded kDataFrame in the colored_kDataFrame *loaded_ckf*"
   ]
  },
  {
   "cell_type": "code",
   "execution_count": 12,
   "metadata": {},
   "outputs": [],
   "source": [
    "loaded_kf = ckf1.getkDataFrame()"
   ]
  },
  {
   "cell_type": "markdown",
   "metadata": {},
   "source": [
    "### Print the types of loaded_kf & loaded_ckf "
   ]
  },
  {
   "cell_type": "code",
   "execution_count": 13,
   "metadata": {},
   "outputs": [
    {
     "name": "stdout",
     "output_type": "stream",
     "text": [
      "<class 'kProcessor.colored_kDataFrame'>\n",
      "<class 'kProcessor.kDataFrame'>\n"
     ]
    }
   ],
   "source": [
    "print(type(loaded_ckf))\n",
    "print(type(loaded_kf))"
   ]
  },
  {
   "cell_type": "markdown",
   "metadata": {},
   "source": [
    "### Create a kDataFrame Iterator "
   ]
  },
  {
   "cell_type": "code",
   "execution_count": 14,
   "metadata": {},
   "outputs": [],
   "source": [
    "it = loaded_kf.begin()"
   ]
  },
  {
   "cell_type": "markdown",
   "metadata": {},
   "source": [
    "### Iterate and print the first 5 kmers with their colors"
   ]
  },
  {
   "cell_type": "code",
   "execution_count": 15,
   "metadata": {},
   "outputs": [
    {
     "name": "stdout",
     "output_type": "stream",
     "text": [
      "Kmer  : ACTTCCCAGCCCGCTTCCCGTCCCACCCTCG\n",
      "Color : 64\n",
      "-------------------------------\n",
      "Kmer  : CCTCTCCGTCCGAGTCTTTGGGGGGCTCGTC\n",
      "Color : 45\n",
      "-------------------------------\n",
      "Kmer  : GTACTCGGCCGGCGGCTATGACGGGGCCTCC\n",
      "Color : 40\n",
      "-------------------------------\n",
      "Kmer  : AGGGCACCCTCCAGCACGGCCACGCCCGCTG\n",
      "Color : 40\n",
      "-------------------------------\n",
      "Kmer  : CTGCAGCCGCCGCCAGAGGGTTTCCTTCGGC\n",
      "Color : 18\n",
      "-------------------------------\n"
     ]
    }
   ],
   "source": [
    "for i in range(5):\n",
    "    \n",
    "    # Get the kmer\n",
    "    kmer = it.getKmer()\n",
    "    \n",
    "    # Get the color (stored as count)\n",
    "    color = it.getKmerCount()\n",
    "    \n",
    "    # Verify by querying the kmer on the colored kDataFrame\n",
    "    \n",
    "    \n",
    "    print(\"Kmer  : %s\" % kmer)\n",
    "    print(\"Color : %d\" % color)\n",
    "    \n",
    "    print(\"-------------------------------\")\n",
    "    \n",
    "    it.next() # Extremely Important!"
   ]
  },
  {
   "cell_type": "markdown",
   "metadata": {},
   "source": [
    "---"
   ]
  },
  {
   "cell_type": "markdown",
   "metadata": {},
   "source": [
    "## Complete Script"
   ]
  },
  {
   "cell_type": "markdown",
   "metadata": {},
   "source": [
    "```python\n",
    "import kProcessor as kp\n",
    "\n",
    "KF = kp.kDataFrameMQF(31)\n",
    "\n",
    "# kp.index(kDataFrame, mode, params, file_path, chunk size, namesfile)\n",
    "ckf1 = kp.index(KF, \"kmers\", {\"k_size\" : 31}, \"data/min_test_sample.fa\", 1000, \"data/min_test_sample.fa.names\")\n",
    "\n",
    "namesMap = ckf1.names_map()\n",
    "\n",
    "inverse_namesMap = ckf1.inverse_names_map()\n",
    "\n",
    "print(f\"namesMap: {namesMap}\")\n",
    "\n",
    "# Inverse of the namesMap dictionary\n",
    "print(f\"inverse_namesMap: {inverse_namesMap}\")\n",
    "\n",
    "\n",
    "# kmer from the dataset to perform the query\n",
    "kmer = \"TCGAAGCTGGAGAAGGCGGACATCCTGGAGA\"\n",
    "\n",
    "# Get the color\n",
    "kmer_color = ckf1.getKmerColor(kmer)\n",
    "\n",
    "print(kmer_color)\n",
    "\n",
    "for tr_id in transcript_ids:\n",
    "    print(namesMap[tr_id])\n",
    "\n",
    "\n",
    "ckf1.save(\"ckf1\")\n",
    "\n",
    "loaded_ckf = kp.colored_kDataFrame.load(\"ckf1\")\n",
    "loaded_kf = ckf1.getkDataFrame()\n",
    "\n",
    "it = loaded_kf.begin()\n",
    "\n",
    "for i in range(5):\n",
    "    \n",
    "    # Get the kmer\n",
    "    kmer = it.getKmer()\n",
    "    \n",
    "    # Get the color (stored as count)\n",
    "    color = it.getKmerCount()\n",
    "    \n",
    "    # Verify by querying the kmer on the colored kDataFrame\n",
    "    \n",
    "    \n",
    "    print(\"Kmer  : %s\" % kmer)\n",
    "    print(\"Color : %d\" % color)\n",
    "    \n",
    "    print(\"-------------------------------\")\n",
    "    \n",
    "    it.next() # Extremely Important!\n",
    "\n",
    "```"
   ]
  }
 ],
 "metadata": {
  "kernelspec": {
   "display_name": "Python 3",
   "language": "python",
   "name": "python3"
  },
  "language_info": {
   "codemirror_mode": {
    "name": "ipython",
    "version": 3
   },
   "file_extension": ".py",
   "mimetype": "text/x-python",
   "name": "python",
   "nbconvert_exporter": "python",
   "pygments_lexer": "ipython3",
   "version": "3.6.7"
  }
 },
 "nbformat": 4,
 "nbformat_minor": 2
}
