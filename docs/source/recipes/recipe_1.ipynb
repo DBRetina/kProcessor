{
 "cells": [
  {
   "cell_type": "markdown",
   "metadata": {},
   "source": [
    "# Recipe 1: Kmers parsing and counting"
   ]
  },
  {
   "cell_type": "markdown",
   "metadata": {},
   "source": [
    "## Data\n",
    "\n",
    "Sample light-weight data for running the examples.\n",
    "\n",
    "[Click here to download](../../../assets/files/data.zip)"
   ]
  },
  {
   "cell_type": "markdown",
   "metadata": {},
   "source": [
    "## Description\n",
    "\n",
    "1. Create an empty kDataFrame with kmerSize = 21\n",
    "2. Load a fasta file into a kDataFrame\n",
    "3. Save the kDataFrame on disk"
   ]
  },
  {
   "cell_type": "markdown",
   "metadata": {},
   "source": [
    "## Implementation"
   ]
  },
  {
   "cell_type": "markdown",
   "metadata": {},
   "source": [
    "### Importing"
   ]
  },
  {
   "cell_type": "code",
   "execution_count": 1,
   "metadata": {},
   "outputs": [],
   "source": [
    "import kProcessor as kp"
   ]
  },
  {
   "cell_type": "markdown",
   "metadata": {},
   "source": [
    "### Create an empty kDataFrame"
   ]
  },
  {
   "cell_type": "code",
   "execution_count": 2,
   "metadata": {},
   "outputs": [],
   "source": [
    "kf1 = kp.kDataFrameMQF(21)"
   ]
  },
  {
   "cell_type": "markdown",
   "metadata": {},
   "source": [
    "### Parse the fastq file into the kf1 kDataFrame"
   ]
  },
  {
   "cell_type": "code",
   "execution_count": 10,
   "metadata": {},
   "outputs": [],
   "source": [
    "# kp.parseSequencesFromFile(kDataFrame, mode, params, file_path, chunk size)\n",
    "kp.parseSequencesFromFile(kf1, \"kmers\", {\"k_size\" : 21}, \"data/test.fastq\", 1000)"
   ]
  },
  {
   "cell_type": "markdown",
   "metadata": {},
   "source": [
    "### Iterating over first 10 kmers"
   ]
  },
  {
   "cell_type": "markdown",
   "metadata": {},
   "source": [
    "<div class=\"alert alert-info\">\n",
    "\n",
    "**Note:**\n",
    "\n",
    "[kDataFrameIterator.next()](../py_api.html#kProcessor.kDataFrameIterator.kDataFrameIterator.next) is extremely important to move the iterator to the next kmer position.\n",
    "\n",
    "</div>"
   ]
  },
  {
   "cell_type": "code",
   "execution_count": 11,
   "metadata": {},
   "outputs": [
    {
     "name": "stdout",
     "output_type": "stream",
     "text": [
      "CCCAACAGAATTAAAAAGTCA\n",
      "AAATTAAATAACTTTAGCGCA\n",
      "CCAAATTACAACAAAATTTGG\n",
      "TTAATCATTTGGTATAATTGC\n",
      "ACCTCGTATAACTTCGTATAA\n",
      "AACAATTCAACAGAGAAGGAC\n",
      "AGGCTAATCGAACAAAACATC\n",
      "AGGAAAAACTCCAGCCAGTAA\n",
      "TACGGGTCGCAGTGACCAGGC\n",
      "CCAGGTAGTACAGCAATCGTA\n"
     ]
    }
   ],
   "source": [
    "it = kf1.begin()\n",
    "\n",
    "for i in range(10):\n",
    "    print(it.getKmer())\n",
    "    it.next()"
   ]
  },
  {
   "cell_type": "markdown",
   "metadata": {},
   "source": [
    "### Save the kDataFrame on disk with a name \"kf1\"\n"
   ]
  },
  {
   "cell_type": "code",
   "execution_count": 12,
   "metadata": {},
   "outputs": [],
   "source": [
    "# This will save the file with the extension \".mqf\"\n",
    "kf1.save(\"kf1\")"
   ]
  },
  {
   "cell_type": "markdown",
   "metadata": {},
   "source": [
    "## Complete Script"
   ]
  },
  {
   "cell_type": "markdown",
   "metadata": {},
   "source": [
    "```python\n",
    "\n",
    "import kProcessor as kp\n",
    "\n",
    "# Creating an empty kDataFrameMQF with kmer size 21\n",
    "kf1 = kp.kDataFrameMQF(21)\n",
    "\n",
    "kp.parseSequencesFromFile(kf1, \"kmers\", {\"k_size\" : 21}, \"data/test.fastq\", 1000)\n",
    "\n",
    "kf1.save(\"kf1\")\n",
    "\n",
    "it = kf1.begin()\n",
    "\n",
    "for i in range(10):\n",
    "    print(it.getKmer())\n",
    "    it.next()\n",
    "\n",
    "```"
   ]
  }
 ],
 "metadata": {
  "kernelspec": {
   "display_name": "Python 3",
   "language": "python",
   "name": "python3"
  },
  "language_info": {
   "codemirror_mode": {
    "name": "ipython",
    "version": 3
   },
   "file_extension": ".py",
   "mimetype": "text/x-python",
   "name": "python",
   "nbconvert_exporter": "python",
   "pygments_lexer": "ipython3",
   "version": "3.6.7"
  }
 },
 "nbformat": 4,
 "nbformat_minor": 2
}
